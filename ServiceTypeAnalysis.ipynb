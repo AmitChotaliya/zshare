{
 "cells": [
  {
   "cell_type": "code",
   "execution_count": 2,
   "metadata": {},
   "outputs": [
    {
     "data": {
      "text/plain": [
       "'3.7.1'"
      ]
     },
     "execution_count": 2,
     "metadata": {},
     "output_type": "execute_result"
    }
   ],
   "source": [
    "\n",
    "import plotly\n",
    "plotly.__version__"
   ]
  },
  {
   "cell_type": "code",
   "execution_count": 3,
   "metadata": {},
   "outputs": [
    {
     "data": {
      "text/html": [
       "<script type=\"text/javascript\">window.PlotlyConfig = {MathJaxConfig: 'local'};</script><script type=\"text/javascript\">if (window.MathJax) {MathJax.Hub.Config({SVG: {font: \"STIX-Web\"}});}</script><script>requirejs.config({paths: { 'plotly': ['https://cdn.plot.ly/plotly-latest.min']},});if(!window._Plotly) {require(['plotly'],function(plotly) {window._Plotly=plotly;});}</script>"
      ],
      "text/vnd.plotly.v1+html": [
       "<script type=\"text/javascript\">window.PlotlyConfig = {MathJaxConfig: 'local'};</script><script type=\"text/javascript\">if (window.MathJax) {MathJax.Hub.Config({SVG: {font: \"STIX-Web\"}});}</script><script>requirejs.config({paths: { 'plotly': ['https://cdn.plot.ly/plotly-latest.min']},});if(!window._Plotly) {require(['plotly'],function(plotly) {window._Plotly=plotly;});}</script>"
      ]
     },
     "metadata": {},
     "output_type": "display_data"
    }
   ],
   "source": [
    "from plotly.offline import iplot, init_notebook_mode\n",
    "import plotly.graph_objs as go\n",
    "import pandas as pd\n",
    "import numpy as np\n",
    "import ipywidgets as widgets\n",
    "init_notebook_mode(connected=True)"
   ]
  },
  {
   "cell_type": "code",
   "execution_count": 32,
   "metadata": {},
   "outputs": [
    {
     "data": {
      "application/vnd.plotly.v1+json": {
       "config": {
        "linkText": "Export to plot.ly",
        "plotlyServerURL": "https://plot.ly",
        "showLink": false
       },
       "data": [
        {
         "counts": [
          6,
          10,
          10,
          12,
          12,
          14,
          15,
          10,
          7,
          8
         ],
         "dimensions": [
          {
           "label": "ServiceLine",
           "values": [
            "Digital",
            "Digital",
            "Digital",
            "Digital",
            "Digital",
            "ERP",
            "ERP",
            "ERP",
            "Cloud",
            "Cloud"
           ]
          },
          {
           "label": "Price (USD)",
           "values": [
            "<10K",
            "10-25K",
            "10-25K",
            ">25K",
            ">25K",
            "10-25K",
            ">25K",
            ">25K",
            "<10K",
            "<10K"
           ]
          },
          {
           "label": "ContractType",
           "values": [
            "FixedPrice",
            "FixedPrice",
            "T&M",
            "T&M",
            "FixedPrice",
            "FixedPrice",
            "FixedPrice",
            "T&M",
            "FixedPrice",
            "T&M"
           ]
          },
          {
           "label": "ActualOM%",
           "values": [
            "<5%",
            "<5%",
            "<5%",
            "5-10%",
            "5-10%",
            "5-10%",
            ">10%",
            ">10%",
            ">10%",
            ">10%"
           ]
          }
         ],
         "line": {
          "color": [
           0,
           0,
           0,
           0.5,
           0.5,
           0.5,
           1,
           1,
           1,
           1
          ],
          "colorscale": [
           [
            0,
            "red"
           ],
           [
            0.5,
            "yellow"
           ],
           [
            1,
            "mediumseagreen"
           ]
          ]
         },
         "type": "parcats",
         "uid": "73aa3bde-db9e-4fb6-b98e-acb20e6710a8"
        }
       ],
       "layout": {}
      },
      "text/html": [
       "<div id=\"af160af7-b141-4b8d-bdf4-6938d9777fb9\" style=\"height: 525px; width: 100%;\" class=\"plotly-graph-div\"></div><script type=\"text/javascript\">require([\"plotly\"], function(Plotly) { window.PLOTLYENV=window.PLOTLYENV || {};window.PLOTLYENV.BASE_URL=\"https://plot.ly\";\n",
       "if (document.getElementById(\"af160af7-b141-4b8d-bdf4-6938d9777fb9\")) {\n",
       "    Plotly.newPlot(\"af160af7-b141-4b8d-bdf4-6938d9777fb9\", [{\"counts\": [6, 10, 10, 12, 12, 14, 15, 10, 7, 8], \"dimensions\": [{\"label\": \"ServiceLine\", \"values\": [\"Digital\", \"Digital\", \"Digital\", \"Digital\", \"Digital\", \"ERP\", \"ERP\", \"ERP\", \"Cloud\", \"Cloud\"]}, {\"label\": \"Price (USD)\", \"values\": [\"<10K\", \"10-25K\", \"10-25K\", \">25K\", \">25K\", \"10-25K\", \">25K\", \">25K\", \"<10K\", \"<10K\"]}, {\"label\": \"ContractType\", \"values\": [\"FixedPrice\", \"FixedPrice\", \"T&M\", \"T&M\", \"FixedPrice\", \"FixedPrice\", \"FixedPrice\", \"T&M\", \"FixedPrice\", \"T&M\"]}, {\"label\": \"ActualOM%\", \"values\": [\"<5%\", \"<5%\", \"<5%\", \"5-10%\", \"5-10%\", \"5-10%\", \">10%\", \">10%\", \">10%\", \">10%\"]}], \"line\": {\"color\": [0, 0, 0, 0.5, 0.5, 0.5, 1, 1, 1, 1], \"colorscale\": [[0, \"red\"], [0.5, \"yellow\"], [1, \"mediumseagreen\"]]}, \"type\": \"parcats\", \"uid\": \"b65597b4-6a16-44a2-960f-3f4934f9f37b\"}], {}, {\"showLink\": false, \"linkText\": \"Export to plot.ly\", \"plotlyServerURL\": \"https://plot.ly\"}); \n",
       "}\n",
       "});</script><script type=\"text/javascript\">window.addEventListener(\"resize\", function(){if (document.getElementById(\"af160af7-b141-4b8d-bdf4-6938d9777fb9\")) {window._Plotly.Plots.resize(document.getElementById(\"af160af7-b141-4b8d-bdf4-6938d9777fb9\"));};})</script>"
      ],
      "text/vnd.plotly.v1+html": [
       "<div id=\"af160af7-b141-4b8d-bdf4-6938d9777fb9\" style=\"height: 525px; width: 100%;\" class=\"plotly-graph-div\"></div><script type=\"text/javascript\">require([\"plotly\"], function(Plotly) { window.PLOTLYENV=window.PLOTLYENV || {};window.PLOTLYENV.BASE_URL=\"https://plot.ly\";\n",
       "if (document.getElementById(\"af160af7-b141-4b8d-bdf4-6938d9777fb9\")) {\n",
       "    Plotly.newPlot(\"af160af7-b141-4b8d-bdf4-6938d9777fb9\", [{\"counts\": [6, 10, 10, 12, 12, 14, 15, 10, 7, 8], \"dimensions\": [{\"label\": \"ServiceLine\", \"values\": [\"Digital\", \"Digital\", \"Digital\", \"Digital\", \"Digital\", \"ERP\", \"ERP\", \"ERP\", \"Cloud\", \"Cloud\"]}, {\"label\": \"Price (USD)\", \"values\": [\"<10K\", \"10-25K\", \"10-25K\", \">25K\", \">25K\", \"10-25K\", \">25K\", \">25K\", \"<10K\", \"<10K\"]}, {\"label\": \"ContractType\", \"values\": [\"FixedPrice\", \"FixedPrice\", \"T&M\", \"T&M\", \"FixedPrice\", \"FixedPrice\", \"FixedPrice\", \"T&M\", \"FixedPrice\", \"T&M\"]}, {\"label\": \"ActualOM%\", \"values\": [\"<5%\", \"<5%\", \"<5%\", \"5-10%\", \"5-10%\", \"5-10%\", \">10%\", \">10%\", \">10%\", \">10%\"]}], \"line\": {\"color\": [0, 0, 0, 0.5, 0.5, 0.5, 1, 1, 1, 1], \"colorscale\": [[0, \"red\"], [0.5, \"yellow\"], [1, \"mediumseagreen\"]]}, \"type\": \"parcats\", \"uid\": \"b65597b4-6a16-44a2-960f-3f4934f9f37b\"}], {}, {\"showLink\": false, \"linkText\": \"Export to plot.ly\", \"plotlyServerURL\": \"https://plot.ly\"}); \n",
       "}\n",
       "});</script><script type=\"text/javascript\">window.addEventListener(\"resize\", function(){if (document.getElementById(\"af160af7-b141-4b8d-bdf4-6938d9777fb9\")) {window._Plotly.Plots.resize(document.getElementById(\"af160af7-b141-4b8d-bdf4-6938d9777fb9\"));};})</script>"
      ]
     },
     "metadata": {},
     "output_type": "display_data"
    }
   ],
   "source": [
    "parcats = go.Parcats(\n",
    "    dimensions=[\n",
    "        {'label': 'ServiceLine',\n",
    "         'values': ['Digital', 'Digital', 'Digital','Digital', 'Digital', 'ERP', 'ERP', 'ERP', 'Cloud', 'Cloud']},\n",
    "        {'label': 'Price (USD)',\n",
    "         'values': ['<10K', '10-25K', '10-25K', '>25K','>25K','10-25K', '>25K','>25K', '<10K', '<10K']},\n",
    "        {'label': 'ContractType',\n",
    "         'values': ['FixedPrice','FixedPrice', 'T&M', 'T&M','FixedPrice','FixedPrice', 'FixedPrice', 'T&M','FixedPrice','T&M' ]},\n",
    "        {'label': 'ActualOM%',\n",
    "         'values': ['<5%', '<5%','<5%', '5-10%','5-10%', '5-10%','>10%', '>10%','>10%', '>10%' ]}    \n",
    "    ],\n",
    "    counts=[6, 10, 10, 12, 12,14, 15, 10, 7,8],\n",
    "    line={'color': [0, 0,0, 0.5,0.5, 0.5,1, 1,1, 1 ],\n",
    "        'colorscale' : [[0, 'red'],[0.5, 'yellow'], [1, 'mediumseagreen']]\n",
    "    \n",
    "        }\n",
    ")\n",
    "\n",
    "iplot([parcats])"
   ]
  },
  {
   "cell_type": "code",
   "execution_count": 4,
   "metadata": {},
   "outputs": [
    {
     "name": "stdout",
     "output_type": "stream",
     "text": [
      "/Users/sanjeev/projects/jup-notes/tarento\r\n"
     ]
    }
   ],
   "source": [
    "!pwd"
   ]
  },
  {
   "cell_type": "code",
   "execution_count": 29,
   "metadata": {},
   "outputs": [],
   "source": [
    "# Where and what to sell to increase revenue; improve service mix for better profitability"
   ]
  },
  {
   "cell_type": "code",
   "execution_count": 44,
   "metadata": {},
   "outputs": [
    {
     "data": {
      "application/vnd.plotly.v1+json": {
       "config": {
        "linkText": "Export to plot.ly",
        "plotlyServerURL": "https://plot.ly",
        "showLink": false
       },
       "data": [
        {
         "counts": [
          10,
          10,
          10,
          12,
          12,
          14,
          15,
          10,
          7,
          8
         ],
         "dimensions": [
          {
           "label": "Geo",
           "values": [
            "India",
            "India",
            "India",
            "APAC",
            "APAC",
            "EMEA",
            "EMEA",
            "US",
            "US",
            "US"
           ]
          },
          {
           "label": "ServiceLine",
           "values": [
            "Digital",
            "ERP",
            "Cloud",
            "Digital",
            "ERP",
            "Digital",
            "ERP",
            "Digital",
            "ERP",
            "Cloud"
           ]
          },
          {
           "label": "SoldOM%",
           "values": [
            "5-10%",
            "10-15%",
            "10-15%",
            "10-15%",
            "10-15%",
            "10-15%",
            ">15%",
            ">15%",
            ">15%",
            ">15%"
           ]
          },
          {
           "label": "ActualOM%",
           "values": [
            "<5%",
            "5-10%",
            "5-10%",
            "<5%",
            "5-10%",
            ">10%",
            ">10%",
            ">10%",
            ">10%",
            ">10%"
           ]
          }
         ],
         "line": {
          "color": [
           0,
           0.5,
           0.5,
           0,
           0.5,
           1,
           1,
           1,
           1,
           1
          ],
          "colorscale": [
           [
            0,
            "red"
           ],
           [
            0.5,
            "yellow"
           ],
           [
            1,
            "mediumseagreen"
           ]
          ]
         },
         "type": "parcats",
         "uid": "6d4976b1-9c69-4d3d-93b2-ef43c359fb62"
        }
       ],
       "layout": {}
      },
      "text/html": [
       "<div id=\"139e2e06-63df-4be4-818c-55b814a1d2e5\" style=\"height: 525px; width: 100%;\" class=\"plotly-graph-div\"></div><script type=\"text/javascript\">require([\"plotly\"], function(Plotly) { window.PLOTLYENV=window.PLOTLYENV || {};window.PLOTLYENV.BASE_URL=\"https://plot.ly\";\n",
       "if (document.getElementById(\"139e2e06-63df-4be4-818c-55b814a1d2e5\")) {\n",
       "    Plotly.newPlot(\"139e2e06-63df-4be4-818c-55b814a1d2e5\", [{\"counts\": [10, 10, 10, 12, 12, 14, 15, 10, 7, 8], \"dimensions\": [{\"label\": \"Geo\", \"values\": [\"India\", \"India\", \"India\", \"APAC\", \"APAC\", \"EMEA\", \"EMEA\", \"US\", \"US\", \"US\"]}, {\"label\": \"ServiceLine\", \"values\": [\"Digital\", \"ERP\", \"Cloud\", \"Digital\", \"ERP\", \"Digital\", \"ERP\", \"Digital\", \"ERP\", \"Cloud\"]}, {\"label\": \"SoldOM%\", \"values\": [\"5-10%\", \"10-15%\", \"10-15%\", \"10-15%\", \"10-15%\", \"10-15%\", \">15%\", \">15%\", \">15%\", \">15%\"]}, {\"label\": \"ActualOM%\", \"values\": [\"<5%\", \"5-10%\", \"5-10%\", \"<5%\", \"5-10%\", \">10%\", \">10%\", \">10%\", \">10%\", \">10%\"]}], \"line\": {\"color\": [0, 0.5, 0.5, 0, 0.5, 1, 1, 1, 1, 1], \"colorscale\": [[0, \"red\"], [0.5, \"yellow\"], [1, \"mediumseagreen\"]]}, \"type\": \"parcats\", \"uid\": \"7cbe9a10-cf33-447b-86a0-ddb85f933f03\"}], {}, {\"showLink\": false, \"linkText\": \"Export to plot.ly\", \"plotlyServerURL\": \"https://plot.ly\"}); \n",
       "}\n",
       "});</script><script type=\"text/javascript\">window.addEventListener(\"resize\", function(){if (document.getElementById(\"139e2e06-63df-4be4-818c-55b814a1d2e5\")) {window._Plotly.Plots.resize(document.getElementById(\"139e2e06-63df-4be4-818c-55b814a1d2e5\"));};})</script>"
      ],
      "text/vnd.plotly.v1+html": [
       "<div id=\"139e2e06-63df-4be4-818c-55b814a1d2e5\" style=\"height: 525px; width: 100%;\" class=\"plotly-graph-div\"></div><script type=\"text/javascript\">require([\"plotly\"], function(Plotly) { window.PLOTLYENV=window.PLOTLYENV || {};window.PLOTLYENV.BASE_URL=\"https://plot.ly\";\n",
       "if (document.getElementById(\"139e2e06-63df-4be4-818c-55b814a1d2e5\")) {\n",
       "    Plotly.newPlot(\"139e2e06-63df-4be4-818c-55b814a1d2e5\", [{\"counts\": [10, 10, 10, 12, 12, 14, 15, 10, 7, 8], \"dimensions\": [{\"label\": \"Geo\", \"values\": [\"India\", \"India\", \"India\", \"APAC\", \"APAC\", \"EMEA\", \"EMEA\", \"US\", \"US\", \"US\"]}, {\"label\": \"ServiceLine\", \"values\": [\"Digital\", \"ERP\", \"Cloud\", \"Digital\", \"ERP\", \"Digital\", \"ERP\", \"Digital\", \"ERP\", \"Cloud\"]}, {\"label\": \"SoldOM%\", \"values\": [\"5-10%\", \"10-15%\", \"10-15%\", \"10-15%\", \"10-15%\", \"10-15%\", \">15%\", \">15%\", \">15%\", \">15%\"]}, {\"label\": \"ActualOM%\", \"values\": [\"<5%\", \"5-10%\", \"5-10%\", \"<5%\", \"5-10%\", \">10%\", \">10%\", \">10%\", \">10%\", \">10%\"]}], \"line\": {\"color\": [0, 0.5, 0.5, 0, 0.5, 1, 1, 1, 1, 1], \"colorscale\": [[0, \"red\"], [0.5, \"yellow\"], [1, \"mediumseagreen\"]]}, \"type\": \"parcats\", \"uid\": \"7cbe9a10-cf33-447b-86a0-ddb85f933f03\"}], {}, {\"showLink\": false, \"linkText\": \"Export to plot.ly\", \"plotlyServerURL\": \"https://plot.ly\"}); \n",
       "}\n",
       "});</script><script type=\"text/javascript\">window.addEventListener(\"resize\", function(){if (document.getElementById(\"139e2e06-63df-4be4-818c-55b814a1d2e5\")) {window._Plotly.Plots.resize(document.getElementById(\"139e2e06-63df-4be4-818c-55b814a1d2e5\"));};})</script>"
      ]
     },
     "metadata": {},
     "output_type": "display_data"
    }
   ],
   "source": [
    "parcats = go.Parcats(\n",
    "    dimensions=[\n",
    "        {'label': 'Geo',\n",
    "         'values': ['India', 'India', 'India', 'APAC','APAC','EMEA', 'EMEA','US', 'US', 'US']},\n",
    "\n",
    "        {'label': 'ServiceLine',\n",
    "         'values': ['Digital', 'ERP', 'Cloud','Digital', 'ERP', 'Digital', 'ERP', 'Digital', 'ERP', 'Cloud']},\n",
    "        {'label': 'SoldOM%',\n",
    "         'values': ['5-10%', '10-15%','10-15%', '10-15%','10-15%', '10-15%','>15%', '>15%','>15%', '>15%' ]},\n",
    "               \n",
    "        {'label': 'ActualOM%',\n",
    "         'values': ['<5%', '5-10%','5-10%', '<5%','5-10%', '>10%','>10%', '>10%','>10%', '>10%' ]}    \n",
    "    ],\n",
    "    counts=[10, 10, 10, 12, 12,14, 15, 10, 7,8],\n",
    "    line={'color': [0, 0.5,0.5, 0,0.5, 1,1, 1,1, 1 ],\n",
    "        'colorscale' : [[0, 'red'],[0.5, 'yellow'], [1, 'mediumseagreen']]\n",
    "    \n",
    "        }\n",
    ")\n",
    "\n",
    "iplot([parcats])"
   ]
  },
  {
   "cell_type": "code",
   "execution_count": 30,
   "metadata": {},
   "outputs": [],
   "source": [
    "# This is a comment"
   ]
  },
  {
   "cell_type": "code",
   "execution_count": 39,
   "metadata": {},
   "outputs": [
    {
     "data": {
      "application/vnd.plotly.v1+json": {
       "config": {
        "linkText": "Export to plot.ly",
        "plotlyServerURL": "https://plot.ly",
        "showLink": false
       },
       "data": [
        {
         "counts": [
          6,
          10,
          10,
          12,
          12,
          14,
          15,
          10,
          7,
          8
         ],
         "dimensions": [
          {
           "label": "DU",
           "values": [
            "DU1",
            "DU1",
            "DU1",
            "DU2",
            "DU2",
            "DU3",
            "DU3",
            "DU4",
            "DU4",
            "DU4"
           ]
          },
          {
           "label": "EffortEscalation%",
           "values": [
            "<15%",
            "15-25%",
            ">25%",
            "<15%",
            ">25%",
            "<15%",
            "15-25%",
            "<15%",
            "15-25%",
            ">25%"
           ]
          },
          {
           "label": "ScheduleDelay",
           "values": [
            "2-4Weeks",
            "2-4Weeks",
            ">4Weeks",
            "<2Weeks",
            "2-4Weeks",
            "2-4Weeks",
            "2-4Weeks",
            "<2Weeks",
            "2-4Weeks",
            ">4Weeks"
           ]
          },
          {
           "label": "MarginErosion(USD)",
           "values": [
            "<10K",
            "10-20K",
            ">20K",
            "<10K",
            ">20K",
            "<10K",
            "10-20K",
            "<10K",
            "10-20K",
            ">20K"
           ]
          }
         ],
         "line": {
          "color": [
           1,
           0.5,
           0,
           1,
           0,
           1,
           0.5,
           1,
           0.5,
           0
          ],
          "colorscale": [
           [
            0,
            "red"
           ],
           [
            0.5,
            "yellow"
           ],
           [
            1,
            "mediumseagreen"
           ]
          ]
         },
         "type": "parcats",
         "uid": "76b3faa8-7809-41f7-8cc8-76319f90dc39"
        }
       ],
       "layout": {}
      },
      "text/html": [
       "<div id=\"21639200-21c9-4b75-a8c6-27403a571fa2\" style=\"height: 525px; width: 100%;\" class=\"plotly-graph-div\"></div><script type=\"text/javascript\">require([\"plotly\"], function(Plotly) { window.PLOTLYENV=window.PLOTLYENV || {};window.PLOTLYENV.BASE_URL=\"https://plot.ly\";\n",
       "if (document.getElementById(\"21639200-21c9-4b75-a8c6-27403a571fa2\")) {\n",
       "    Plotly.newPlot(\"21639200-21c9-4b75-a8c6-27403a571fa2\", [{\"counts\": [6, 10, 10, 12, 12, 14, 15, 10, 7, 8], \"dimensions\": [{\"label\": \"DU\", \"values\": [\"DU1\", \"DU1\", \"DU1\", \"DU2\", \"DU2\", \"DU3\", \"DU3\", \"DU4\", \"DU4\", \"DU4\"]}, {\"label\": \"EffortEscalation%\", \"values\": [\"<15%\", \"15-25%\", \">25%\", \"<15%\", \">25%\", \"<15%\", \"15-25%\", \"<15%\", \"15-25%\", \">25%\"]}, {\"label\": \"ScheduleDelay\", \"values\": [\"2-4Weeks\", \"2-4Weeks\", \">4Weeks\", \"<2Weeks\", \"2-4Weeks\", \"2-4Weeks\", \"2-4Weeks\", \"<2Weeks\", \"2-4Weeks\", \">4Weeks\"]}, {\"label\": \"MarginErosion(USD)\", \"values\": [\"<10K\", \"10-20K\", \">20K\", \"<10K\", \">20K\", \"<10K\", \"10-20K\", \"<10K\", \"10-20K\", \">20K\"]}], \"line\": {\"color\": [1, 0.5, 0, 1, 0, 1, 0.5, 1, 0.5, 0], \"colorscale\": [[0, \"red\"], [0.5, \"yellow\"], [1, \"mediumseagreen\"]]}, \"type\": \"parcats\", \"uid\": \"b41eecd1-c1e4-4951-b0af-49e1e538e551\"}], {}, {\"showLink\": false, \"linkText\": \"Export to plot.ly\", \"plotlyServerURL\": \"https://plot.ly\"}); \n",
       "}\n",
       "});</script><script type=\"text/javascript\">window.addEventListener(\"resize\", function(){if (document.getElementById(\"21639200-21c9-4b75-a8c6-27403a571fa2\")) {window._Plotly.Plots.resize(document.getElementById(\"21639200-21c9-4b75-a8c6-27403a571fa2\"));};})</script>"
      ],
      "text/vnd.plotly.v1+html": [
       "<div id=\"21639200-21c9-4b75-a8c6-27403a571fa2\" style=\"height: 525px; width: 100%;\" class=\"plotly-graph-div\"></div><script type=\"text/javascript\">require([\"plotly\"], function(Plotly) { window.PLOTLYENV=window.PLOTLYENV || {};window.PLOTLYENV.BASE_URL=\"https://plot.ly\";\n",
       "if (document.getElementById(\"21639200-21c9-4b75-a8c6-27403a571fa2\")) {\n",
       "    Plotly.newPlot(\"21639200-21c9-4b75-a8c6-27403a571fa2\", [{\"counts\": [6, 10, 10, 12, 12, 14, 15, 10, 7, 8], \"dimensions\": [{\"label\": \"DU\", \"values\": [\"DU1\", \"DU1\", \"DU1\", \"DU2\", \"DU2\", \"DU3\", \"DU3\", \"DU4\", \"DU4\", \"DU4\"]}, {\"label\": \"EffortEscalation%\", \"values\": [\"<15%\", \"15-25%\", \">25%\", \"<15%\", \">25%\", \"<15%\", \"15-25%\", \"<15%\", \"15-25%\", \">25%\"]}, {\"label\": \"ScheduleDelay\", \"values\": [\"2-4Weeks\", \"2-4Weeks\", \">4Weeks\", \"<2Weeks\", \"2-4Weeks\", \"2-4Weeks\", \"2-4Weeks\", \"<2Weeks\", \"2-4Weeks\", \">4Weeks\"]}, {\"label\": \"MarginErosion(USD)\", \"values\": [\"<10K\", \"10-20K\", \">20K\", \"<10K\", \">20K\", \"<10K\", \"10-20K\", \"<10K\", \"10-20K\", \">20K\"]}], \"line\": {\"color\": [1, 0.5, 0, 1, 0, 1, 0.5, 1, 0.5, 0], \"colorscale\": [[0, \"red\"], [0.5, \"yellow\"], [1, \"mediumseagreen\"]]}, \"type\": \"parcats\", \"uid\": \"b41eecd1-c1e4-4951-b0af-49e1e538e551\"}], {}, {\"showLink\": false, \"linkText\": \"Export to plot.ly\", \"plotlyServerURL\": \"https://plot.ly\"}); \n",
       "}\n",
       "});</script><script type=\"text/javascript\">window.addEventListener(\"resize\", function(){if (document.getElementById(\"21639200-21c9-4b75-a8c6-27403a571fa2\")) {window._Plotly.Plots.resize(document.getElementById(\"21639200-21c9-4b75-a8c6-27403a571fa2\"));};})</script>"
      ]
     },
     "metadata": {},
     "output_type": "display_data"
    }
   ],
   "source": [
    "parcats = go.Parcats(\n",
    "    dimensions=[\n",
    "        {'label': 'DU',\n",
    "         'values': ['DU1', 'DU1', 'DU1', 'DU2','DU2','DU3', 'DU3','DU4', 'DU4', 'DU4']},\n",
    "        {'label': 'EffortEscalation%',\n",
    "         'values': ['<15%', '15-25%', '>25%','<15%', '>25%', '<15%', '15-25%', '<15%', '15-25%', '>25%']},  \n",
    "        {'label': 'ScheduleDelay',\n",
    "         'values': ['2-4Weeks', '2-4Weeks', '>4Weeks','<2Weeks', '2-4Weeks', '2-4Weeks', '2-4Weeks', '<2Weeks', '2-4Weeks', '>4Weeks']},     \n",
    "        {'label': 'MarginErosion(USD)',\n",
    "         'values': ['<10K', '10-20K','>20K', '<10K','>20K', '<10K','10-20K', '<10K','10-20K', '>20K' ]}    \n",
    "    ],\n",
    "    counts=[6, 10, 10, 12, 12,14, 15, 10, 7,8],\n",
    "    line={'color': [1, 0.5,0, 1,0, 1,0.5, 1,0.5, 0 ],\n",
    "        'colorscale' : [[0, 'red'],[0.5, 'yellow'], [1, 'mediumseagreen']]\n",
    "    \n",
    "        }\n",
    ")\n",
    "\n",
    "iplot([parcats])"
   ]
  },
  {
   "cell_type": "code",
   "execution_count": null,
   "metadata": {},
   "outputs": [],
   "source": []
  }
 ],
 "metadata": {
  "kernelspec": {
   "display_name": "Python 3",
   "language": "python",
   "name": "python3"
  },
  "language_info": {
   "codemirror_mode": {
    "name": "ipython",
    "version": 3
   },
   "file_extension": ".py",
   "mimetype": "text/x-python",
   "name": "python",
   "nbconvert_exporter": "python",
   "pygments_lexer": "ipython3",
   "version": "3.6.3"
  }
 },
 "nbformat": 4,
 "nbformat_minor": 2
}
